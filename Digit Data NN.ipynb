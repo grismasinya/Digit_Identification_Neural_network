{
 "cells": [
  {
   "cell_type": "code",
   "execution_count": 155,
   "metadata": {},
   "outputs": [],
   "source": [
    "import numpy as np\n",
    "import pandas as pd\n",
    "from numpy import genfromtxt\n",
    "import math\n",
    "\n",
    "np.seterr(divide='ignore', invalid='ignore')\n",
    "\n",
    "data = genfromtxt('digits-training.data', delimiter=' ')\n",
    "rows = np.size(data,0)\n",
    "cols = np.size(data,1)\n"
   ]
  },
  {
   "cell_type": "code",
   "execution_count": 156,
   "metadata": {},
   "outputs": [],
   "source": [
    "frdata=np.delete(data,64,1)\n"
   ]
  },
  {
   "cell_type": "code",
   "execution_count": 168,
   "metadata": {
    "scrolled": true
   },
   "outputs": [
    {
     "name": "stdout",
     "output_type": "stream",
     "text": [
      "[[1. 0. 0. 0. 0. 0. 0. 0. 0. 0.]\n",
      " [1. 0. 0. 0. 0. 0. 0. 0. 0. 0.]\n",
      " [1. 0. 0. 0. 0. 0. 0. 0. 0. 0.]\n",
      " [1. 0. 0. 0. 0. 0. 0. 0. 0. 0.]]\n"
     ]
    }
   ],
   "source": [
    "def ConvertToBin(data):\n",
    "    #data=data[:,-1]\n",
    "    alist = []\n",
    "    for x in data:\n",
    "        if x==0:\n",
    "            alist.append([1,0,0,0,0,0,0,0,0,0])\n",
    "        elif x==1:\n",
    "            alist.append([0,1,0,0,0,0,0,0,0,0])\n",
    "        elif x==2:\n",
    "            alist.append([0,0,1,0,0,0,0,0,0,0])\n",
    "        elif x==3:\n",
    "            alist.append([0,0,0,1,0,0,0,0,0,0])\n",
    "        elif x==4:\n",
    "            alist.append([0,0,0,0,1,0,0,0,0,0])\n",
    "        elif x==5:\n",
    "            alist.append([0,0,0,0,0,1,0,0,0,0])\n",
    "        elif x==6:\n",
    "            alist.append([0,0,0,0,0,0,1,0,0,0])\n",
    "        elif x==7:\n",
    "            alist.append([0,0,0,0,0,0,0,1,0,0])\n",
    "        elif x==8:\n",
    "            alist.append([0,0,0,0,0,0,0,0,1,0])\n",
    "        elif x==9:\n",
    "            alist.append([0,0,0,0,0,0,0,0,0,1])\n",
    "        else:\n",
    "            pass\n",
    "    finaldat = np.array(alist)\n",
    "    return finaldat\n",
    "    \n",
    "      \n",
    "\n",
    "def softmax(X):\n",
    "    #exps = np.exp(X - np.max(X))\n",
    "    #return exps / np.sum(exps)\n",
    "    e = np.exp(X)\n",
    "    return e / np.sum(e, axis=1, keepdims=True)\n",
    "\n",
    "#def softmax(z):\n",
    "#    z -= np.max(z)\n",
    "#    sm = (np.exp(z).T / np.sum(np.exp(z), axis=0)).T\n",
    " #   return sm\n",
    "\n",
    "def softmax_grad(s): \n",
    "    # Take the derivative of softmax element w.r.t the each logit which is usually Wi * X\n",
    "    # input s is softmax value of the original input x. \n",
    "    # s.shape = (1, n) \n",
    "    # i.e. s = np.array([0.3, 0.7]), x = np.array([0, 1])\n",
    "\n",
    "    # initialize the 2-D jacobian matrix.\n",
    "    jacobian_m = np.diag(s)\n",
    "\n",
    "    for i in range(len(jacobian_m)):\n",
    "        for j in range(len(jacobian_m)):\n",
    "            if i == j:\n",
    "                jacobian_m[i][j] = s[i] * (1-s[i])\n",
    "            else: \n",
    "                jacobian_m[i][j] = -s[i]*s[j]\n",
    "    return jacobian_m\n",
    "\n",
    "\n",
    "def sigmoid(x):\n",
    "    return 1.0/(1+ np.exp(-x))\n",
    "\n",
    "def sigmoid_derivative(x):\n",
    "    return x * (1.0 - x)\n",
    "\n",
    "class NeuralNetwork:\n",
    "    def __init__(self, x, y):\n",
    "        self.input      = x\n",
    "        self.weights1   = np.random.rand(self.input.shape[1],15) \n",
    "        self.weights2   = np.random.rand(15,10)                 \n",
    "        self.y          = y\n",
    "        self.output     = np.zeros(self.y.shape)\n",
    "\n",
    "    def feedforward(self):\n",
    "        self.layer1 = sigmoid(np.dot(self.input, self.weights1))\n",
    "        self.output = softmax(np.dot(self.layer1, self.weights2))\n",
    "\n",
    "    def backprop(self):\n",
    "        # application of the chain rule to find derivative of the loss function with respect to weights2 and weights1\n",
    "        d_weights2 = np.dot(self.layer1.T, (2*(self.y - self.output) * sigmoid_derivative(self.output)))\n",
    "        d_weights1 = np.dot(self.input.T,  (np.dot(2*(self.y - self.output) * sigmoid_derivative(self.output), self.weights2.T) * sigmoid_derivative(self.layer1)))\n",
    "\n",
    "        # update the weights with the derivative (slope) of the loss function\n",
    "        self.weights1 += d_weights1\n",
    "        self.weights2 += d_weights2\n",
    "\n",
    "\n",
    "if __name__ == \"__main__\":\n",
    "    trim_data=frdata/16\n",
    "    tr1=trim_data[0:4,:]\n",
    "    X = tr1\n",
    "    #y = np.array([[1,0,0,0,0,0,0,0,0,0],[1,0,0,0,0,0,0,0,0,0],[0,0,0,0,0,0,0,1,0,0],[0,0,0,0,1,0,0,0,0,0],[0,0,0,0,0,0,1,0,0,0],[0,0,1,0,0,0,0,0,0,0],[0,0,0,0,0,1,0,0,0,0]])\n",
    "    #sp=data[:,-1][0:10]\n",
    "    y= np.array(ConvertToBin(data[:,-1][0:4]))\n",
    "    nn = NeuralNetwork(X,y)\n",
    "\n",
    "    for i in range(9000):\n",
    "        nn.feedforward()\n",
    "        nn.backprop()\n",
    "\n",
    "print(nn.output)"
   ]
  },
  {
   "cell_type": "code",
   "execution_count": null,
   "metadata": {
    "scrolled": true
   },
   "outputs": [],
   "source": []
  },
  {
   "cell_type": "code",
   "execution_count": null,
   "metadata": {},
   "outputs": [],
   "source": []
  },
  {
   "cell_type": "code",
   "execution_count": null,
   "metadata": {},
   "outputs": [],
   "source": []
  }
 ],
 "metadata": {
  "kernelspec": {
   "display_name": "Python 3",
   "language": "python",
   "name": "python3"
  },
  "language_info": {
   "codemirror_mode": {
    "name": "ipython",
    "version": 3
   },
   "file_extension": ".py",
   "mimetype": "text/x-python",
   "name": "python",
   "nbconvert_exporter": "python",
   "pygments_lexer": "ipython3",
   "version": "3.7.0"
  }
 },
 "nbformat": 4,
 "nbformat_minor": 2
}
