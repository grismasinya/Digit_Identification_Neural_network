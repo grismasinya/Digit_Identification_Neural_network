{
 "cells": [
  {
   "cell_type": "code",
   "execution_count": 5,
   "metadata": {},
   "outputs": [
    {
     "name": "stdout",
     "output_type": "stream",
     "text": [
      "[[9.99821842e-01]\n",
      " [5.85689884e-03]\n",
      " [9.98259280e-01]\n",
      " [9.94464397e-01]\n",
      " [1.75679296e-04]\n",
      " [1.34089374e-04]\n",
      " [8.63699833e-04]\n",
      " [9.99940752e-01]\n",
      " [9.99267811e-01]\n",
      " [7.22003274e-03]\n",
      " [9.94476534e-01]\n",
      " [9.99711934e-01]\n",
      " [9.94748381e-01]\n",
      " [3.35241143e-04]]\n"
     ]
    }
   ],
   "source": [
    "#import necessary libraries\n",
    "import numpy as np\n",
    "\n",
    "#sigmoid definition\n",
    "def sigmoid(x):\n",
    "    return 1.0/(1+ np.exp(-x))\n",
    "\n",
    "#derivative of sigmoid\n",
    "def sigmoid_derivative(x):\n",
    "    return x * (1.0 - x)\n",
    "\n",
    "#softmax definition\n",
    "def softmax(A):\n",
    "    \"\"\"\n",
    "    Computes a softmax function. \n",
    "    Input: A (N, k) ndarray.\n",
    "    Returns: (N, k) ndarray.\n",
    "    \"\"\"\n",
    "    e = np.exp(A)\n",
    "    return e / np.sum(e, axis=1, keepdims=True)\n",
    "\n",
    "\n",
    "#creation of class\n",
    "class NeuralNetwork:\n",
    "    \n",
    "    #initialization of weights and variables\n",
    "    def __init__(self, x, y):\n",
    "        self.input      = x\n",
    "        self.weights1   = np.random.rand(self.input.shape[1],5) \n",
    "        self.weights2   = np.random.rand(5,1)                 \n",
    "        self.y          = y\n",
    "        self.output     = np.zeros(self.y.shape)\n",
    "    \n",
    "    #definition for feed forward\n",
    "    def feedforward(self):\n",
    "        self.layer1 = sigmoid(np.dot(self.input, self.weights1)+1)\n",
    "        self.output = sigmoid(np.dot(self.layer1, self.weights2)+1)\n",
    "\n",
    "    #definition of back propagation\n",
    "    def backprop(self):\n",
    "        # application of the chain rule to find derivative of the loss function with respect to weights2 and weights1\n",
    "        d_weights2 = np.dot(self.layer1.T, (2*(self.y - self.output) * sigmoid_derivative(self.output)))\n",
    "        d_weights1 = np.dot(self.input.T,  (np.dot(2*(self.y - self.output) * sigmoid_derivative(self.output), self.weights2.T) * sigmoid_derivative(self.layer1)))\n",
    "\n",
    "        # update the weights with the derivative (slope) of the loss function\n",
    "        self.weights1 += d_weights1\n",
    "        self.weights2 += d_weights2\n",
    "\n",
    "\n",
    "if __name__ == \"__main__\":\n",
    "    \n",
    "    #encoded categorical data into binary manually\n",
    "    X = np.array([[1,0,1,0,0,1,0,1,0,0],\n",
    "                  [0,1,1,0,0,1,0,1,0,0],\n",
    "                  [1,0,1,0,0,1,0,0,0,1],\n",
    "                  [1,0,0,0,1,1,0,0,1,0],\n",
    "                  [1,0,0,1,0,0,1,0,1,0],\n",
    "                  [0,1,0,1,0,0,1,0,1,0],\n",
    "                  [0,1,0,1,0,0,1,1,0,0],\n",
    "                  [1,0,0,0,1,1,0,1,0,0],\n",
    "                  [1,0,0,1,0,0,1,1,0,0],\n",
    "                  [1,0,0,0,1,0,1,0,1,0],\n",
    "                  [0,1,0,0,1,0,1,1,0,0],\n",
    "                  [0,1,0,0,1,1,0,1,0,0],\n",
    "                  [1,0,1,0,0,0,1,1,0,0],\n",
    "                  [0,1,0,0,1,1,0,0,1,0]\n",
    "                  \n",
    "                                   ])\n",
    "    \n",
    "    #1= Yes and 0= No\n",
    "    y = np.array([[1],[0],[1],[1],[0],[0],[0],[1],[1],[0],[1],[1],[1],[0]])\n",
    "    nn = NeuralNetwork(X,y)\n",
    "    \n",
    "    #iterate for 5500 times\n",
    "    for i in range(5500):\n",
    "        nn.feedforward()\n",
    "        nn.backprop()\n",
    "\n",
    "#display output\n",
    "print(nn.output)"
   ]
  },
  {
   "cell_type": "code",
   "execution_count": 2,
   "metadata": {},
   "outputs": [],
   "source": [
    "#import encoded test data\n",
    "new_in = np.array([1,0,0,1,0,1,0,1,0,0])\n"
   ]
  },
  {
   "cell_type": "code",
   "execution_count": 3,
   "metadata": {},
   "outputs": [],
   "source": [
    "\n",
    "neww1=nn.weights1 #assigned updated new weights\n",
    "neww2=nn.weights2 ##assigned updated new weights\n",
    "firstlayer = sigmoid(np.dot(new_in, neww1)+1) #output from firstlayer\n",
    "outputlayer = sigmoid(np.dot(firstlayer,neww2)+1) #output from secondlayer"
   ]
  },
  {
   "cell_type": "code",
   "execution_count": 4,
   "metadata": {},
   "outputs": [
    {
     "data": {
      "text/plain": [
       "array([0.99990494])"
      ]
     },
     "execution_count": 4,
     "metadata": {},
     "output_type": "execute_result"
    }
   ],
   "source": [
    "outputlayer"
   ]
  },
  {
   "cell_type": "raw",
   "metadata": {},
   "source": []
  }
 ],
 "metadata": {
  "kernelspec": {
   "display_name": "Python 3",
   "language": "python",
   "name": "python3"
  },
  "language_info": {
   "codemirror_mode": {
    "name": "ipython",
    "version": 3
   },
   "file_extension": ".py",
   "mimetype": "text/x-python",
   "name": "python",
   "nbconvert_exporter": "python",
   "pygments_lexer": "ipython3",
   "version": "3.7.0"
  }
 },
 "nbformat": 4,
 "nbformat_minor": 2
}
